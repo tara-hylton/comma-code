{
 "cells": [
  {
   "cell_type": "markdown",
   "id": "c70c61b5",
   "metadata": {},
   "source": [
    "Comma Code practice program"
   ]
  },
  {
   "cell_type": "code",
   "execution_count": 1,
   "id": "3c908097",
   "metadata": {},
   "outputs": [
    {
     "name": "stdout",
     "output_type": "stream",
     "text": [
      "cat, dog, horse, frog, 973, %, and car\n"
     ]
    }
   ],
   "source": [
    "import copy\n",
    "list_1 = []\n",
    "while True:\n",
    "    add_item = str(input(\"What would you like to add to the list? Please enter 'done' when you are finished with your list. \\n\")).lower()\n",
    "    if add_item == 'done':\n",
    "        break\n",
    "    else:\n",
    "        list_1.append(add_item)\n",
    "last_word = list_1[-1]\n",
    "list_1.pop()\n",
    "\n",
    "print(\", \".join(list_1), end=\",\") \n",
    "print(\" and\", end=\" \")\n",
    "print(last_word)\n",
    "    \n",
    "    \n",
    "    \n",
    "    "
   ]
  }
 ],
 "metadata": {
  "kernelspec": {
   "display_name": "Python 3",
   "language": "python",
   "name": "python3"
  },
  "language_info": {
   "codemirror_mode": {
    "name": "ipython",
    "version": 3
   },
   "file_extension": ".py",
   "mimetype": "text/x-python",
   "name": "python",
   "nbconvert_exporter": "python",
   "pygments_lexer": "ipython3",
   "version": "3.13.2"
  }
 },
 "nbformat": 4,
 "nbformat_minor": 5
}
